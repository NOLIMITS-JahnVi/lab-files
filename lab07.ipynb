{
 "cells": [
  {
   "cell_type": "markdown",
   "metadata": {},
   "source": [
    "lab 05\n",
    "jahnvi saini\n",
    "2k18CSUN01021"
   ]
  },
  {
   "cell_type": "code",
   "execution_count": 1,
   "metadata": {},
   "outputs": [
    {
     "name": "stdout",
     "output_type": "stream",
     "text": [
      "intersection:  {76}\n"
     ]
    }
   ],
   "source": [
    "a={4,76,32,13};\n",
    "b={43,76,90,14};\n",
    "print(\"intersection: \",a&b)\n"
   ]
  },
  {
   "cell_type": "code",
   "execution_count": 2,
   "metadata": {},
   "outputs": [
    {
     "name": "stdout",
     "output_type": "stream",
     "text": [
      "{0, 67, 21, 23, 56, 89, 43}\n"
     ]
    }
   ],
   "source": [
    "a={43,23,67,56};\n",
    "b={89,0,21};\n",
    "z=a.union(b)\n",
    "print(z)\n"
   ]
  },
  {
   "cell_type": "code",
   "execution_count": 5,
   "metadata": {},
   "outputs": [
    {
     "name": "stdout",
     "output_type": "stream",
     "text": [
      "set()\n"
     ]
    }
   ],
   "source": [
    "a={8,53,27,7};\n",
    "\n",
    "\n",
    "\n",
    "a.clear();\n",
    "print(a)\n"
   ]
  },
  {
   "cell_type": "code",
   "execution_count": 7,
   "metadata": {},
   "outputs": [
    {
     "name": "stdout",
     "output_type": "stream",
     "text": [
      "a.issuperset(b):  False\n",
      "b.issuperset(a):  True\n"
     ]
    }
   ],
   "source": [
    "a={78,45,9}\n",
    "b={78,9,34,23,6,45}\n",
    "print(\"a.issuperset(b): \",a.issuperset(b))\n",
    "print(\"b.issuperset(a): \",b.issuperset(a))\n"
   ]
  },
  {
   "cell_type": "code",
   "execution_count": 8,
   "metadata": {},
   "outputs": [
    {
     "name": "stdout",
     "output_type": "stream",
     "text": [
      "a.issubset(b):  True\n",
      "b.issubset(a):  False\n"
     ]
    }
   ],
   "source": [
    "a={78,45,9}\n",
    "b={78,9,34,23,6,45}\n",
    "print(\"a.issubset(b): \",a.issubset(b))\n",
    "print(\"b.issubset(a): \",b.issubset(a))\n"
   ]
  },
  {
   "cell_type": "code",
   "execution_count": 10,
   "metadata": {},
   "outputs": [
    {
     "name": "stdout",
     "output_type": "stream",
     "text": [
      "{8, 67}\n"
     ]
    }
   ],
   "source": [
    "a={8,53,67,12}\n",
    "b={53,24,90,12}\n",
    "z=a.difference(b)\n",
    "print(z)\n"
   ]
  },
  {
   "cell_type": "code",
   "execution_count": 18,
   "metadata": {},
   "outputs": [
    {
     "name": "stdout",
     "output_type": "stream",
     "text": [
      "{67, 8, 24, 90}\n"
     ]
    }
   ],
   "source": [
    "a={8,53,67,12}\n",
    "b={53,24,90,12}\n",
    "z=a.symmetric_difference(b)\n",
    "print(z)"
   ]
  },
  {
   "cell_type": "code",
   "execution_count": 20,
   "metadata": {},
   "outputs": [
    {
     "name": "stdout",
     "output_type": "stream",
     "text": [
      "{5, 72, 48, '6', 31}\n"
     ]
    }
   ],
   "source": [
    "a={5,72,31,48};\n",
    "a.add(\"6\")\n",
    "print(a)"
   ]
  },
  {
   "cell_type": "code",
   "execution_count": 21,
   "metadata": {},
   "outputs": [
    {
     "name": "stdout",
     "output_type": "stream",
     "text": [
      "{65, 3, 8, 42, '5', '38'}\n"
     ]
    }
   ],
   "source": [
    "a={8,65,42,3}\n",
    "a.update([\"5\",\"38\"])\n",
    "print(a)\n"
   ]
  },
  {
   "cell_type": "code",
   "execution_count": 22,
   "metadata": {},
   "outputs": [
    {
     "name": "stdout",
     "output_type": "stream",
     "text": [
      "5\n"
     ]
    }
   ],
   "source": [
    "a={8,90,65,31,78}\n",
    "print(len(a))\n"
   ]
  },
  {
   "cell_type": "code",
   "execution_count": 24,
   "metadata": {},
   "outputs": [
    {
     "name": "stdout",
     "output_type": "stream",
     "text": [
      "{18, 5}\n"
     ]
    }
   ],
   "source": [
    "a={5,34,18}\n",
    "b=34\n",
    "a.remove(b)\n",
    "print(a)\n"
   ]
  },
  {
   "cell_type": "code",
   "execution_count": 29,
   "metadata": {},
   "outputs": [
    {
     "name": "stdout",
     "output_type": "stream",
     "text": [
      "b = 80\n"
     ]
    }
   ],
   "source": [
    "a={80,37,15,6}\n",
    "b=a.pop()\n",
    "print(\"b =\",b)\n"
   ]
  },
  {
   "cell_type": "code",
   "execution_count": null,
   "metadata": {},
   "outputs": [],
   "source": []
  }
 ],
 "metadata": {
  "kernelspec": {
   "display_name": "Python 3",
   "language": "python",
   "name": "python3"
  },
  "language_info": {
   "codemirror_mode": {
    "name": "ipython",
    "version": 3
   },
   "file_extension": ".py",
   "mimetype": "text/x-python",
   "name": "python",
   "nbconvert_exporter": "python",
   "pygments_lexer": "ipython3",
   "version": "3.7.1"
  }
 },
 "nbformat": 4,
 "nbformat_minor": 2
}
