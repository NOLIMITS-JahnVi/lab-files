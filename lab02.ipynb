{
 "cells": [
  {
   "cell_type": "markdown",
   "metadata": {},
   "source": [
    "lab 02\n",
    "jahnvi saini\n",
    "2k18CSUN01021"
   ]
  },
  {
   "cell_type": "code",
   "execution_count": 3,
   "metadata": {},
   "outputs": [
    {
     "name": "stdout",
     "output_type": "stream",
     "text": [
      "enter the number:12\n",
      "the number is even.\n"
     ]
    }
   ],
   "source": [
    "value=int(input(\"enter the number:\"))\n",
    "if((value%2)==0):\n",
    "    print(\"the number is even.\")\n",
    "    \n",
    "else:\n",
    "    print(\"the number is odd.\")\n",
    "        \n"
   ]
  },
  {
   "cell_type": "code",
   "execution_count": 6,
   "metadata": {},
   "outputs": [
    {
     "name": "stdout",
     "output_type": "stream",
     "text": [
      "enter the year:2019\n",
      "it's not a leap error.\n"
     ]
    }
   ],
   "source": [
    "year=int(input(\"enter the year:\"))\n",
    "if(((year%4)==0)and((year%100)!=0)or((year%400)==0)):\n",
    "    print(\"the year is a leap year.\")\n",
    "else:\n",
    "    print(\"it's not a leap error.\")\n",
    "    "
   ]
  },
  {
   "cell_type": "code",
   "execution_count": 8,
   "metadata": {},
   "outputs": [
    {
     "name": "stdout",
     "output_type": "stream",
     "text": [
      "enter the character:j\n",
      "j is a consonant.\n"
     ]
    }
   ],
   "source": [
    "var=input(\"enter the character:\")\n",
    "if((var=='A')or(var=='E')or(var=='I')or(var=='O')or(var=='U')or(var=='a')or(var=='e')or(var=='i')or(var=='o')or(var=='u')):\n",
    "    print(var, \"is a vowel.\")\n",
    "else:\n",
    "    print(var, \"is a consonant.\")\n",
    "\n",
    "\n"
   ]
  },
  {
   "cell_type": "code",
   "execution_count": 9,
   "metadata": {},
   "outputs": [
    {
     "name": "stdout",
     "output_type": "stream",
     "text": [
      "enter the number:12\n",
      "enter another number:03\n",
      "3 is smaller than 12\n"
     ]
    }
   ],
   "source": [
    "num1=int(input(\"enter the number:\"))\n",
    "num2=int(input(\"enter another number:\"))\n",
    "if(num1<num2):\n",
    "    print(num1,\"is smaller than\",num2)\n",
    "elif(num2<num1):\n",
    "    print(num2,\"is smaller than\",num1)\n",
    "else:\n",
    "    print(num1,\"is equal to\",num2)\n",
    "    \n",
    "    "
   ]
  },
  {
   "cell_type": "code",
   "execution_count": 11,
   "metadata": {},
   "outputs": [
    {
     "name": "stdout",
     "output_type": "stream",
     "text": [
      "enter the number:12\n",
      "the factorial of 12 is 479001600\n"
     ]
    }
   ],
   "source": [
    "num=int(input(\"enter the number:\"))\n",
    "fact=1\n",
    "for i in range(1,num+1):\n",
    "    fact*=i\n",
    "    \n",
    "print(\"the factorial of\",num,\"is\",fact)\n"
   ]
  },
  {
   "cell_type": "code",
   "execution_count": null,
   "metadata": {},
   "outputs": [],
   "source": [
    "n=int(input(\"enter the range number:\"))\n",
    "i=0\n",
    "f=0\n",
    "s=1\n",
    "while(i<num):\n",
    "    if(i<=1):\n",
    "        nt=i\n",
    "    else:\n",
    "        nt=f+s\n",
    "        f=s\n",
    "        s=nt\n",
    "        print(nt)\n",
    "        i+=1"
   ]
  },
  {
   "cell_type": "code",
   "execution_count": null,
   "metadata": {},
   "outputs": [],
   "source": [
    "n=int(input(\"enter the range number:\"))\n",
    "i=0\n",
    "f=0\n",
    "s=1\n",
    "while(i<n):\n",
    "    if(i<=1):\n",
    "        nt=i\n",
    "    else:\n",
    "        nt=f+s\n",
    "        s=nt\n",
    "        print(nt)\n",
    "i+=1        f=s\n",
    "\n"
   ]
  },
  {
   "cell_type": "code",
   "execution_count": 3,
   "metadata": {},
   "outputs": [
    {
     "name": "stdout",
     "output_type": "stream",
     "text": [
      "enter a number:12\n",
      "12 is not a prime number\n"
     ]
    }
   ],
   "source": [
    "n=int(input(\"enter a number:\"))\n",
    "if n>1:\n",
    "    for i in range(2,n):\n",
    "        if(n%i)==0:\n",
    "            print(n,\"is not a prime number\")\n",
    "            break\n",
    "        else:\n",
    "            print(n,\"is a prime number\")\n",
    "            \n",
    "else:\n",
    "    print(n,\"is not a prime number\")\n",
    "\n"
   ]
  },
  {
   "cell_type": "code",
   "execution_count": null,
   "metadata": {},
   "outputs": [],
   "source": [
    "def add(n1,n2):\n",
    "    return x+y\n",
    "def sub(n1,n2):\n",
    "    return x-y\n",
    "def mul(n1,n2):\n",
    "    return x*y\n",
    "def div(n1,n2):\n",
    "    return x/y\n",
    "\n",
    "print(\"Select operation to be performed:\\\n",
    "       1.Addition\\n\n",
    "       2.Subtraction\\n\n",
    "       3.Multiplication\\n\n",
    "       4.Division\")\n",
    "\n",
    "operation=input(\"select operation to be performed:\")\n",
    "n1=int(input(\"enter first number:\"))\n",
    "n1=int(input(\"enter second number:\"))\n"
   ]
  },
  {
   "cell_type": "code",
   "execution_count": null,
   "metadata": {},
   "outputs": [],
   "source": []
  }
 ],
 "metadata": {
  "kernelspec": {
   "display_name": "Python 3",
   "language": "python",
   "name": "python3"
  },
  "language_info": {
   "codemirror_mode": {
    "name": "ipython",
    "version": 3
   },
   "file_extension": ".py",
   "mimetype": "text/x-python",
   "name": "python",
   "nbconvert_exporter": "python",
   "pygments_lexer": "ipython3",
   "version": "3.7.1"
  }
 },
 "nbformat": 4,
 "nbformat_minor": 2
}
