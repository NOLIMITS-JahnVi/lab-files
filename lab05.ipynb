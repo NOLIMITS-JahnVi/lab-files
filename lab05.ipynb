{
 "cells": [
  {
   "cell_type": "markdown",
   "metadata": {},
   "source": [
    "lab 05\n",
    "jahnvi saini\n",
    "2k18CSUN01021"
   ]
  },
  {
   "cell_type": "code",
   "execution_count": 1,
   "metadata": {},
   "outputs": [
    {
     "name": "stdout",
     "output_type": "stream",
     "text": [
      "sum of all elements in given list is  204\n"
     ]
    }
   ],
   "source": [
    "sum=0\n",
    "list1=[35,14,26,37,92]\n",
    "for i in range(0,len(list1)):\n",
    "    sum=sum+list1[i]\n",
    "print(\"sum of all elements in given list is \",sum)\n"
   ]
  },
  {
   "cell_type": "code",
   "execution_count": 2,
   "metadata": {},
   "outputs": [
    {
     "name": "stdout",
     "output_type": "stream",
     "text": [
      "the product of given elements is  8078400\n"
     ]
    }
   ],
   "source": [
    "product=1\n",
    "list1=[11,10,12,3,17,4,30]\n",
    "for i in range(0,len(list1)):\n",
    "    product=product*list1[i]\n",
    "print(\"the product of given elements is \",product)\n"
   ]
  },
  {
   "cell_type": "code",
   "execution_count": 5,
   "metadata": {},
   "outputs": [
    {
     "name": "stdout",
     "output_type": "stream",
     "text": [
      "enter the number of elements: 3\n",
      "enter the element: 26\n",
      "enter the element: 47\n",
      "enter the element: 93\n",
      "enter the element: 45\n",
      "the largest number in the list is  93\n"
     ]
    }
   ],
   "source": [
    "list1=[]\n",
    "n=int(input(\"enter the number of elements: \"))\n",
    "for i in range(0,n):\n",
    "    ele=int(input(\"enter the element: \"))\n",
    "    list1.append(ele)\n",
    "print(\"the largest number in the list is \",max(list1))\n"
   ]
  },
  {
   "cell_type": "code",
   "execution_count": 7,
   "metadata": {},
   "outputs": [
    {
     "name": "stdout",
     "output_type": "stream",
     "text": [
      "enter the number of elements: 4\n",
      "enter the element: 32\n",
      "enter the element: 67\n",
      "enter the element: 32\n",
      "enter the element: 54\n",
      "the list with unique elements is:  [32, 67, 54]\n"
     ]
    }
   ],
   "source": [
    "list1=[]\n",
    "n=int(input(\"enter the number of elements: \"))\n",
    "for i in range(0,n):\n",
    "    ele=int(input(\"enter the element: \"))\n",
    "    if ele not in list1:\n",
    "        list1.append(ele)\n",
    "print(\"the list with unique elements is: \",list1)\n"
   ]
  },
  {
   "cell_type": "code",
   "execution_count": 10,
   "metadata": {},
   "outputs": [
    {
     "name": "stdout",
     "output_type": "stream",
     "text": [
      "the list is empty.\n"
     ]
    }
   ],
   "source": [
    "list1=[]\n",
    "if not list1:\n",
    "    print(\"the list is empty.\")\n",
    "else:\n",
    "    print(\"the list is non-empty.\")"
   ]
  },
  {
   "cell_type": "code",
   "execution_count": 11,
   "metadata": {},
   "outputs": [
    {
     "name": "stdout",
     "output_type": "stream",
     "text": [
      "original list:  [23, 12, 3, 24, 27, 40]\n",
      "copied list:  [23, 12, 3, 24, 27, 40]\n"
     ]
    }
   ],
   "source": [
    "list1=[]\n",
    "list2=[23,12,3,24,27,40]\n",
    "list1=list2.copy()\n",
    "print(\"original list: \",list2)\n",
    "print(\"copied list: \",list1)\n"
   ]
  },
  {
   "cell_type": "code",
   "execution_count": 14,
   "metadata": {},
   "outputs": [
    {
     "name": "stdout",
     "output_type": "stream",
     "text": [
      "[24, 2, 38, 46]\n",
      "[24, 12, 38, 46]\n",
      "[24, 2, 38, 46]\n"
     ]
    }
   ],
   "source": [
    "from copy import deepcopy\n",
    "list1=[24,2,38,46]\n",
    "print(list1)\n",
    "\n",
    "list2=deepcopy(list1)\n",
    "list1[1]=12\n",
    "print(list1)\n",
    "print(list2)\n"
   ]
  },
  {
   "cell_type": "code",
   "execution_count": 16,
   "metadata": {},
   "outputs": [
    {
     "name": "stdout",
     "output_type": "stream",
     "text": [
      "[24, 2, 38, 46]\n",
      "[24, 12, 38, 46]\n",
      "[24, 2, 38, 46]\n"
     ]
    }
   ],
   "source": [
    "import copy\n",
    "list1=[24,2,38,46]\n",
    "print(list1)\n",
    "\n",
    "list2=copy.copy(list1)\n",
    "list1[1]=12\n",
    "print(list1)\n",
    "print(list2)"
   ]
  },
  {
   "cell_type": "code",
   "execution_count": 22,
   "metadata": {},
   "outputs": [
    {
     "name": "stdout",
     "output_type": "stream",
     "text": [
      "enter the maximum length of string: 3\n",
      "fdghd\n",
      "ygdv\n"
     ]
    }
   ],
   "source": [
    "list1=[\"fdghd\",\"ygdv\",\"fhu\",\"eg\"]\n",
    "length=len(list1)\n",
    "n=int(input(\"enter the maximum length of string: \"))\n",
    "for i in range(length):\n",
    "    if len(list1[i])>n:\n",
    "        print(list1[i])\n",
    "        \n"
   ]
  },
  {
   "cell_type": "code",
   "execution_count": 2,
   "metadata": {},
   "outputs": [
    {
     "name": "stdout",
     "output_type": "stream",
     "text": [
      "true\n",
      "true\n"
     ]
    }
   ],
   "source": [
    "list1=[53,23,35,1]\n",
    "list2=[1,36,46,23]\n",
    "for i in range(len(list1)):\n",
    "    for j in range(len(list2)):\n",
    "        if list1[i]==list2[j]:\n",
    "            print(\"true\") \n",
    "    \n",
    "        \n",
    "    "
   ]
  },
  {
   "cell_type": "code",
   "execution_count": null,
   "metadata": {},
   "outputs": [],
   "source": []
  }
 ],
 "metadata": {
  "kernelspec": {
   "display_name": "Python 3",
   "language": "python",
   "name": "python3"
  },
  "language_info": {
   "codemirror_mode": {
    "name": "ipython",
    "version": 3
   },
   "file_extension": ".py",
   "mimetype": "text/x-python",
   "name": "python",
   "nbconvert_exporter": "python",
   "pygments_lexer": "ipython3",
   "version": "3.7.1"
  }
 },
 "nbformat": 4,
 "nbformat_minor": 2
}
