{
 "cells": [
  {
   "cell_type": "markdown",
   "metadata": {},
   "source": [
    "lab 03\n",
    "jahnvi saini\n",
    "2k18CSUN01021"
   ]
  },
  {
   "cell_type": "code",
   "execution_count": 1,
   "metadata": {},
   "outputs": [
    {
     "name": "stdout",
     "output_type": "stream",
     "text": [
      "enter the string:heyy!!!there?\n",
      "Length of the given string is 13\n"
     ]
    }
   ],
   "source": [
    "x=input(\"enter the string:\")\n",
    "length=len(x)\n",
    "print(\"Length of the given string is\",length)\n"
   ]
  },
  {
   "cell_type": "code",
   "execution_count": 2,
   "metadata": {},
   "outputs": [
    {
     "name": "stdout",
     "output_type": "stream",
     "text": [
      "enter the string:heyy\n",
      "4\n"
     ]
    }
   ],
   "source": [
    "def length1(strg):\n",
    "    count=0\n",
    "    for i in strg:\n",
    "        count+=1\n",
    "    return count\n",
    "\n",
    "strg=input(\"enter the string:\")\n",
    "print( length1(strg) )\n"
   ]
  },
  {
   "cell_type": "code",
   "execution_count": 4,
   "metadata": {},
   "outputs": [
    {
     "name": "stdout",
     "output_type": "stream",
     "text": [
      "enter the string:heyy...there?\n",
      "hee?\n"
     ]
    }
   ],
   "source": [
    "x=input(\"enter the string:\")\n",
    "ans=x[0:2]+x[-2: ]\n",
    "if(len(x)<2):\n",
    "    print(\" \")\n",
    "else:\n",
    "    print(ans)\n",
    "\n",
    "\n"
   ]
  },
  {
   "cell_type": "code",
   "execution_count": 12,
   "metadata": {},
   "outputs": [
    {
     "name": "stdout",
     "output_type": "stream",
     "text": [
      "enter the string:heyy...there?\n",
      "heyy...t$ere?\n"
     ]
    }
   ],
   "source": [
    "x=input(\"enter the string:\")\n",
    "f=x[0]\n",
    "newX=x.replace(f,\"$\")\n",
    "print(f+newX[1: ])\n"
   ]
  },
  {
   "cell_type": "code",
   "execution_count": 15,
   "metadata": {},
   "outputs": [
    {
     "name": "stdout",
     "output_type": "stream",
     "text": [
      "enter the string:heyy!!!\n",
      "enter the string:there?\n",
      "teyy!!!   hhere?\n"
     ]
    }
   ],
   "source": [
    "x=input(\"enter the string:\")\n",
    "y=input(\"enter the string:\")\n",
    "print(y[0:1]+x[1: ],\" \",x[0:1]+y[1: ])\n"
   ]
  },
  {
   "cell_type": "code",
   "execution_count": 17,
   "metadata": {},
   "outputs": [
    {
     "name": "stdout",
     "output_type": "stream",
     "text": [
      "enter the string:heyy\n",
      "heyying\n"
     ]
    }
   ],
   "source": [
    "x=input(\"enter the string:\")\n",
    "if len(x)>3:\n",
    "    if(x[-3: ]==\"ing\"):\n",
    "        x=x+\"ly\"\n",
    "        print(x)\n",
    "    else:\n",
    "        x=x+\"ing\"\n",
    "        print(x)\n",
    "else:\n",
    "    print(x)\n",
    "    \n"
   ]
  },
  {
   "cell_type": "code",
   "execution_count": null,
   "metadata": {},
   "outputs": [],
   "source": [
    "\n"
   ]
  }
 ],
 "metadata": {
  "kernelspec": {
   "display_name": "Python 3",
   "language": "python",
   "name": "python3"
  },
  "language_info": {
   "codemirror_mode": {
    "name": "ipython",
    "version": 3
   },
   "file_extension": ".py",
   "mimetype": "text/x-python",
   "name": "python",
   "nbconvert_exporter": "python",
   "pygments_lexer": "ipython3",
   "version": "3.7.1"
  }
 },
 "nbformat": 4,
 "nbformat_minor": 2
}
