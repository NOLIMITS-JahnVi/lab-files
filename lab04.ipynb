{
 "cells": [
  {
   "cell_type": "markdown",
   "metadata": {},
   "source": [
    "lab 04\n",
    "jahnvi siani\n",
    "2k18CSUN01021"
   ]
  },
  {
   "cell_type": "code",
   "execution_count": 2,
   "metadata": {},
   "outputs": [
    {
     "name": "stdout",
     "output_type": "stream",
     "text": [
      "(23, 46, 'False', 495, True)\n",
      "<class 'tuple'>\n"
     ]
    }
   ],
   "source": [
    "tup1=23,46,\"False\",495,True\n",
    "print(tup1)\n",
    "print(type(tup1))\n"
   ]
  },
  {
   "cell_type": "code",
   "execution_count": 1,
   "metadata": {},
   "outputs": [
    {
     "name": "stdout",
     "output_type": "stream",
     "text": [
      "(23, 46, 495)\n"
     ]
    }
   ],
   "source": [
    "tup1=23,46,495,\n",
    "print(tup1)"
   ]
  },
  {
   "cell_type": "code",
   "execution_count": 2,
   "metadata": {},
   "outputs": [
    {
     "name": "stdout",
     "output_type": "stream",
     "text": [
      "49\n"
     ]
    }
   ],
   "source": [
    "tup1=23,46,49\n",
    "print(tup1[2])\n"
   ]
  },
  {
   "cell_type": "code",
   "execution_count": 4,
   "metadata": {},
   "outputs": [
    {
     "name": "stdout",
     "output_type": "stream",
     "text": [
      "True\n"
     ]
    }
   ],
   "source": [
    "tup1=23,46,\"False\",495,True\n",
    "print(tup1[-1])\n"
   ]
  },
  {
   "cell_type": "code",
   "execution_count": 6,
   "metadata": {},
   "outputs": [
    {
     "name": "stdout",
     "output_type": "stream",
     "text": [
      "('False', 495, True)\n"
     ]
    }
   ],
   "source": [
    "tup1=23,46,\"False\",495,True,\"apple\"\n",
    "print(tup1[2:5])\n"
   ]
  },
  {
   "cell_type": "code",
   "execution_count": 8,
   "metadata": {},
   "outputs": [
    {
     "name": "stdout",
     "output_type": "stream",
     "text": [
      "(495, True, 'apple')\n"
     ]
    }
   ],
   "source": [
    "tup1=23,46,\"False\",495,True,\"apple\",\"mango\"\n",
    "print(tup1[-4:-1])\n"
   ]
  },
  {
   "cell_type": "code",
   "execution_count": 9,
   "metadata": {},
   "outputs": [
    {
     "name": "stdout",
     "output_type": "stream",
     "text": [
      "(23, 'kiwi', 'False', 495, True, 'apple', 'mango')\n"
     ]
    }
   ],
   "source": [
    "tup1=23,46,\"False\",495,True,\"apple\",\"mango\"\n",
    "y=list(tup1)\n",
    "y[1]=\"kiwi\"\n",
    "tup1=tuple(y)\n",
    "print(tup1)\n"
   ]
  },
  {
   "cell_type": "code",
   "execution_count": 10,
   "metadata": {},
   "outputs": [
    {
     "ename": "TypeError",
     "evalue": "'tuple' object does not support item assignment",
     "output_type": "error",
     "traceback": [
      "\u001b[1;31m---------------------------------------------------------------------------\u001b[0m",
      "\u001b[1;31mTypeError\u001b[0m                                 Traceback (most recent call last)",
      "\u001b[1;32m<ipython-input-10-137c30008ff9>\u001b[0m in \u001b[0;36m<module>\u001b[1;34m\u001b[0m\n\u001b[0;32m      1\u001b[0m \u001b[0mtup1\u001b[0m\u001b[1;33m=\u001b[0m\u001b[1;36m23\u001b[0m\u001b[1;33m,\u001b[0m\u001b[1;36m46\u001b[0m\u001b[1;33m,\u001b[0m\u001b[1;34m\"False\"\u001b[0m\u001b[1;33m,\u001b[0m\u001b[1;36m495\u001b[0m\u001b[1;33m,\u001b[0m\u001b[1;32mTrue\u001b[0m\u001b[1;33m,\u001b[0m\u001b[1;34m\"apple\"\u001b[0m\u001b[1;33m,\u001b[0m\u001b[1;34m\"mango\"\u001b[0m\u001b[1;33m\u001b[0m\u001b[1;33m\u001b[0m\u001b[0m\n\u001b[1;32m----> 2\u001b[1;33m \u001b[0mtup1\u001b[0m\u001b[1;33m[\u001b[0m\u001b[1;36m1\u001b[0m\u001b[1;33m]\u001b[0m\u001b[1;33m=\u001b[0m\u001b[1;34m\"kiwi\"\u001b[0m\u001b[1;33m\u001b[0m\u001b[1;33m\u001b[0m\u001b[0m\n\u001b[0m\u001b[0;32m      3\u001b[0m \u001b[0mprint\u001b[0m\u001b[1;33m(\u001b[0m\u001b[0mtup1\u001b[0m\u001b[1;33m)\u001b[0m\u001b[1;33m\u001b[0m\u001b[1;33m\u001b[0m\u001b[0m\n",
      "\u001b[1;31mTypeError\u001b[0m: 'tuple' object does not support item assignment"
     ]
    }
   ],
   "source": [
    "tup1=23,46,\"False\",495,True,\"apple\",\"mango\"\n",
    "tup1[1]=\"kiwi\"\n",
    "print(tup1)\n"
   ]
  },
  {
   "cell_type": "code",
   "execution_count": 11,
   "metadata": {},
   "outputs": [
    {
     "name": "stdout",
     "output_type": "stream",
     "text": [
      "(23, 46, 'False', 495, True, 'apple', 'mango')\n",
      "(23, 46, 'False', 495, True, 'apple', 'mango')\n",
      "(23, 46, 'False', 495, True, 'apple', 'mango')\n",
      "(23, 46, 'False', 495, True, 'apple', 'mango')\n",
      "(23, 46, 'False', 495, True, 'apple', 'mango')\n",
      "(23, 46, 'False', 495, True, 'apple', 'mango')\n",
      "(23, 46, 'False', 495, True, 'apple', 'mango')\n"
     ]
    }
   ],
   "source": [
    "tup1=23,46,\"False\",495,True,\"apple\",\"mango\"\n",
    "for x in tup1:\n",
    "    print(tup1)\n"
   ]
  },
  {
   "cell_type": "code",
   "execution_count": 12,
   "metadata": {},
   "outputs": [
    {
     "name": "stdout",
     "output_type": "stream",
     "text": [
      "element present\n"
     ]
    }
   ],
   "source": [
    "tup1=23,46,\"False\",495,True,\"apple\",\"mango\"\n",
    "if \"apple\" in tup1:\n",
    "    print(\"element present\")\n"
   ]
  },
  {
   "cell_type": "code",
   "execution_count": 13,
   "metadata": {},
   "outputs": [
    {
     "name": "stdout",
     "output_type": "stream",
     "text": [
      "7\n"
     ]
    }
   ],
   "source": [
    "tup1=23,46,\"False\",495,True,\"apple\",\"mango\"\n",
    "print(len(tup1))\n"
   ]
  },
  {
   "cell_type": "code",
   "execution_count": 14,
   "metadata": {},
   "outputs": [
    {
     "name": "stdout",
     "output_type": "stream",
     "text": [
      "1110\n"
     ]
    }
   ],
   "source": [
    "tup1=(1110)\n",
    "print(tup1)\n"
   ]
  },
  {
   "cell_type": "code",
   "execution_count": 18,
   "metadata": {},
   "outputs": [
    {
     "name": "stdout",
     "output_type": "stream",
     "text": [
      "(1110,)\n"
     ]
    }
   ],
   "source": [
    "tup1=1110, \n",
    "print(tup1)"
   ]
  },
  {
   "cell_type": "code",
   "execution_count": 17,
   "metadata": {},
   "outputs": [
    {
     "name": "stdout",
     "output_type": "stream",
     "text": [
      "1110\n"
     ]
    },
    {
     "ename": "NameError",
     "evalue": "name 'tup1' is not defined",
     "output_type": "error",
     "traceback": [
      "\u001b[1;31m---------------------------------------------------------------------------\u001b[0m",
      "\u001b[1;31mNameError\u001b[0m                                 Traceback (most recent call last)",
      "\u001b[1;32m<ipython-input-17-2b98a2fa5ca0>\u001b[0m in \u001b[0;36m<module>\u001b[1;34m\u001b[0m\n\u001b[0;32m      2\u001b[0m \u001b[0mprint\u001b[0m\u001b[1;33m(\u001b[0m\u001b[0mtup1\u001b[0m\u001b[1;33m)\u001b[0m\u001b[1;33m\u001b[0m\u001b[1;33m\u001b[0m\u001b[0m\n\u001b[0;32m      3\u001b[0m \u001b[1;32mdel\u001b[0m \u001b[0mtup1\u001b[0m\u001b[1;33m\u001b[0m\u001b[1;33m\u001b[0m\u001b[0m\n\u001b[1;32m----> 4\u001b[1;33m \u001b[0mprint\u001b[0m\u001b[1;33m(\u001b[0m\u001b[0mtup1\u001b[0m\u001b[1;33m)\u001b[0m\u001b[1;33m\u001b[0m\u001b[1;33m\u001b[0m\u001b[0m\n\u001b[0m",
      "\u001b[1;31mNameError\u001b[0m: name 'tup1' is not defined"
     ]
    }
   ],
   "source": [
    "tup1=1110\n",
    "print(tup1)\n",
    "del tup1\n",
    "print(tup1)\n"
   ]
  },
  {
   "cell_type": "code",
   "execution_count": 19,
   "metadata": {},
   "outputs": [
    {
     "name": "stdout",
     "output_type": "stream",
     "text": [
      "(2, 4, 6, 3, 5, 7)\n"
     ]
    }
   ],
   "source": [
    "x=(2,4,6)\n",
    "y=(3,5,7)\n",
    "z=x+y\n",
    "print(z)\n"
   ]
  },
  {
   "cell_type": "code",
   "execution_count": 20,
   "metadata": {},
   "outputs": [
    {
     "name": "stdout",
     "output_type": "stream",
     "text": [
      "1\n"
     ]
    }
   ],
   "source": [
    "ve=(11,10,21,9,12,3,30,4,17)\n",
    "print(ve.count(12))\n"
   ]
  },
  {
   "cell_type": "code",
   "execution_count": 3,
   "metadata": {},
   "outputs": [
    {
     "name": "stdout",
     "output_type": "stream",
     "text": [
      "1\n",
      "4\n"
     ]
    }
   ],
   "source": [
    "ve=(11,10,21,9,12,3,30,4,17)\n",
    "print(ve.count(12))\n",
    "print(ve.index(12))\n"
   ]
  },
  {
   "cell_type": "code",
   "execution_count": 22,
   "metadata": {},
   "outputs": [
    {
     "name": "stdout",
     "output_type": "stream",
     "text": [
      "12\n"
     ]
    }
   ],
   "source": [
    "tup1=23,46,12,3,11,10\n",
    "print(tup1[2])\n"
   ]
  },
  {
   "cell_type": "code",
   "execution_count": 23,
   "metadata": {},
   "outputs": [
    {
     "name": "stdout",
     "output_type": "stream",
     "text": [
      "12\n",
      "3\n",
      "11\n",
      "10\n"
     ]
    }
   ],
   "source": [
    "tup1=12,3,11,10\n",
    "x=print(tup1[0])\n",
    "y=print(tup1[1])\n",
    "z=print(tup1[2])\n",
    "v=print(tup1[3])\n"
   ]
  },
  {
   "cell_type": "code",
   "execution_count": 28,
   "metadata": {},
   "outputs": [
    {
     "name": "stdout",
     "output_type": "stream",
     "text": [
      "(1110, 1203, 2109, 99)\n"
     ]
    }
   ],
   "source": [
    "tup1=1110,1203,3004,2109,99\n",
    "x=tup1[0:2]\n",
    "y=tup1[3:5]\n",
    "\n",
    "print(x+y)\n"
   ]
  },
  {
   "cell_type": "code",
   "execution_count": 33,
   "metadata": {},
   "outputs": [
    {
     "name": "stdout",
     "output_type": "stream",
     "text": [
      "(True, 'hello', 5, [])\n",
      "(True, 'hello', 5, [50])\n",
      "(True, 'hello', 5, [])\n"
     ]
    }
   ],
   "source": [
    "from copy import deepcopy\n",
    "t1=(True,'hello',5,[])\n",
    "print(t1)\n",
    "\n",
    "t2=deepcopy(t1)\n",
    "t2[3].append(50)\n",
    "print(t2)\n",
    "print(t1)\n"
   ]
  },
  {
   "cell_type": "code",
   "execution_count": 36,
   "metadata": {},
   "outputs": [
    {
     "name": "stdout",
     "output_type": "stream",
     "text": [
      "(True, 'hello', 5, [])\n",
      "(True, 'hello', 5, [50])\n",
      "(True, 'hello', 5, [50])\n"
     ]
    }
   ],
   "source": [
    "import copy\n",
    "t1=(True,'hello',5,[])\n",
    "print(t1)\n",
    "\n",
    "t2=copy.copy(t1)\n",
    "t2[3].append(50)\n",
    "print(t2)\n",
    "print(t1)\n"
   ]
  },
  {
   "cell_type": "code",
   "execution_count": 42,
   "metadata": {},
   "outputs": [
    {
     "name": "stdout",
     "output_type": "stream",
     "text": [
      "(True, 'hello', 5, [7, 5])\n",
      "(True, 'hello', 5, [2, 5])\n",
      "(True, 'hello', 5, [7, 5])\n"
     ]
    }
   ],
   "source": [
    "from copy import deepcopy\n",
    "t1=(True,'hello',5,[7,5])\n",
    "print(t1)\n",
    "\n",
    "t2=deepcopy(t1)\n",
    "t2[3][0]=2\n",
    "print(t2)\n",
    "print(t1)\n"
   ]
  },
  {
   "cell_type": "code",
   "execution_count": 4,
   "metadata": {},
   "outputs": [
    {
     "name": "stdout",
     "output_type": "stream",
     "text": [
      "(34, 67, 4, 89)\n"
     ]
    }
   ],
   "source": [
    "list1=[34,67,4,89]\n",
    "print(tuple(list1))\n"
   ]
  },
  {
   "cell_type": "code",
   "execution_count": 5,
   "metadata": {},
   "outputs": [
    {
     "name": "stdout",
     "output_type": "stream",
     "text": [
      "heyy\n"
     ]
    }
   ],
   "source": [
    "tuple1=('h','e','y','y')\n",
    "print(''.join(tuple1))\n"
   ]
  },
  {
   "cell_type": "code",
   "execution_count": 8,
   "metadata": {},
   "outputs": [
    {
     "name": "stdout",
     "output_type": "stream",
     "text": [
      "3\n",
      "false\n",
      "j\n",
      "True\n"
     ]
    }
   ],
   "source": [
    "tup=(3,\"false\",True,'j')\n",
    "(integer,string,boolean,character)=tup\n",
    "print(integer)\n",
    "print(string)\n",
    "print(character)\n",
    "print(boolean)\n"
   ]
  },
  {
   "cell_type": "code",
   "execution_count": null,
   "metadata": {},
   "outputs": [],
   "source": []
  }
 ],
 "metadata": {
  "kernelspec": {
   "display_name": "Python 3",
   "language": "python",
   "name": "python3"
  },
  "language_info": {
   "codemirror_mode": {
    "name": "ipython",
    "version": 3
   },
   "file_extension": ".py",
   "mimetype": "text/x-python",
   "name": "python",
   "nbconvert_exporter": "python",
   "pygments_lexer": "ipython3",
   "version": "3.7.1"
  }
 },
 "nbformat": 4,
 "nbformat_minor": 2
}
